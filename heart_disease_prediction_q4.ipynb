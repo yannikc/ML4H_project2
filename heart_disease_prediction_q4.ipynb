{
 "cells": [
  {
   "cell_type": "markdown",
   "metadata": {},
   "source": [
    "## Q4 NAM"
   ]
  },
  {
   "cell_type": "code",
   "execution_count": null,
   "metadata": {},
   "outputs": [],
   "source": [
    "import pandas as pd"
   ]
  },
  {
   "cell_type": "code",
   "execution_count": null,
   "metadata": {},
   "outputs": [],
   "source": [
    "X_train = pd.read_csv('data/processed_data/X_train_processed.csv')\n",
    "y_train = pd.read_csv('data/processed_data/y_train_processed.csv')['HeartDisease']\n",
    "X_test = pd.read_csv('data/processed_data/X_test_processed.csv')\n",
    "y_test = pd.read_csv('data/processed_data/y_test.csv')['HeartDisease']\n",
    "\n",
    "print(f\"Training data shape: {X_train.shape}\")\n",
    "print(f\"Testing data shape: {X_test.shape}\")\n",
    "\n",
    "# Check feature names to understand the data\n",
    "print(\"\\nFeatures in the dataset:\")\n",
    "print(X_train.columns.tolist())"
   ]
  },
  {
   "cell_type": "code",
   "execution_count": null,
   "metadata": {},
   "outputs": [],
   "source": [
    "from typing import Sequence\n",
    "from typing import Tuple\n",
    "\n",
    "import torch\n",
    "import torch.nn as nn\n",
    "import torch.nn.functional as F\n",
    "\n",
    "from nam.models.base import Model\n",
    "from nam.models.featurenn import FeatureNN\n",
    "\n",
    "\n",
    "class NAM(Model):\n",
    "\n",
    "    def __init__(\n",
    "        self,\n",
    "        config,\n",
    "        name,\n",
    "        *,\n",
    "        num_inputs: int,\n",
    "        num_units: int,\n",
    "    ) -> None:\n",
    "        super(NAM, self).__init__(config, name)\n",
    "\n",
    "        self._num_inputs = num_inputs\n",
    "        self.dropout = nn.Dropout(p=self.config.dropout)\n",
    "\n",
    "        if isinstance(num_units, list):\n",
    "            assert len(num_units) == num_inputs\n",
    "            self._num_units = num_units\n",
    "        elif isinstance(num_units, int):\n",
    "            self._num_units = [num_units for _ in range(self._num_inputs)]\n",
    "\n",
    "        ## Builds the FeatureNNs on the first call.\n",
    "        self.feature_nns = nn.ModuleList([\n",
    "            FeatureNN(config=config, name=f'FeatureNN_{i}', input_shape=1, num_units=self._num_units[i], feature_num=i)\n",
    "            for i in range(num_inputs)\n",
    "        ])\n",
    "\n",
    "        self._bias = torch.nn.Parameter(data=torch.zeros(1))\n",
    "\n",
    "    def calc_outputs(self, inputs: torch.Tensor) -> Sequence[torch.Tensor]:\n",
    "        \"\"\"Returns the output computed by each feature net.\"\"\"\n",
    "        return [self.feature_nns[i](inputs[:, i]) for i in range(self._num_inputs)]\n",
    "\n",
    "    def forward(self, inputs: torch.Tensor) -> Tuple[torch.Tensor, torch.Tensor]:\n",
    "        individual_outputs = self.calc_outputs(inputs)\n",
    "        conc_out = torch.cat(individual_outputs, dim=-1)\n",
    "        dropout_out = self.dropout(conc_out)\n",
    "\n",
    "        out = torch.sum(dropout_out, dim=-1)\n",
    "        return out + self._bias, dropout_out"
   ]
  }
 ],
 "metadata": {
  "kernelspec": {
   "display_name": "Python 3",
   "language": "python",
   "name": "python3"
  },
  "language_info": {
   "name": "python",
   "version": "3.8.20"
  }
 },
 "nbformat": 4,
 "nbformat_minor": 2
}
